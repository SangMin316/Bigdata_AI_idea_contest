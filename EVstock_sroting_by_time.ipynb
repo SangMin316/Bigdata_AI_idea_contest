{
  "nbformat": 4,
  "nbformat_minor": 0,
  "metadata": {
    "colab": {
      "name": "EVstock_sroting_by_time.ipynb",
      "provenance": [],
      "collapsed_sections": [],
      "authorship_tag": "ABX9TyPCL4Uk7p7wCpKOmXLEB1iZ",
      "include_colab_link": true
    },
    "kernelspec": {
      "name": "python3",
      "display_name": "Python 3"
    },
    "language_info": {
      "name": "python"
    }
  },
  "cells": [
    {
      "cell_type": "markdown",
      "metadata": {
        "id": "view-in-github",
        "colab_type": "text"
      },
      "source": [
        "<a href=\"https://colab.research.google.com/github/SangMin316/Bigdata_AI_idea_contest/blob/main/EVstock_sroting_by_time.ipynb\" target=\"_parent\"><img src=\"https://colab.research.google.com/assets/colab-badge.svg\" alt=\"Open In Colab\"/></a>"
      ]
    },
    {
      "cell_type": "markdown",
      "source": [
        "충전소 데이터를 시간에 따라 분류하려고 합니다.\n",
        "\n",
        "이용가능 시간 column에 어떤 것들이 있는 지 확인하고, 적절한 기준을 세워보고자합니다."
      ],
      "metadata": {
        "id": "pBzCDN9yhv00"
      }
    },
    {
      "cell_type": "markdown",
      "source": [
        "data load"
      ],
      "metadata": {
        "id": "Z-6Um_c4h-x-"
      }
    },
    {
      "cell_type": "code",
      "metadata": {
        "id": "x_KoXCI82Sid"
      },
      "source": [
        "import pandas as pd\n",
        "\n",
        "df = pd.read_excel('seoul_EVstock.xlsx')"
      ],
      "execution_count": null,
      "outputs": []
    },
    {
      "cell_type": "code",
      "metadata": {
        "colab": {
          "base_uri": "https://localhost:8080/",
          "height": 147
        },
        "id": "bGEmAWbp2kBx",
        "outputId": "5a1fe8bd-3a34-482a-807d-b5c646563206"
      },
      "source": [
        "df.head(1)"
      ],
      "execution_count": null,
      "outputs": [
        {
          "output_type": "execute_result",
          "data": {
            "text/html": [
              "<div>\n",
              "<style scoped>\n",
              "    .dataframe tbody tr th:only-of-type {\n",
              "        vertical-align: middle;\n",
              "    }\n",
              "\n",
              "    .dataframe tbody tr th {\n",
              "        vertical-align: top;\n",
              "    }\n",
              "\n",
              "    .dataframe thead th {\n",
              "        text-align: right;\n",
              "    }\n",
              "</style>\n",
              "<table border=\"1\" class=\"dataframe\">\n",
              "  <thead>\n",
              "    <tr style=\"text-align: right;\">\n",
              "      <th></th>\n",
              "      <th>Unnamed: 0</th>\n",
              "      <th>운영기관</th>\n",
              "      <th>충전소</th>\n",
              "      <th>충전기 ID</th>\n",
              "      <th>타입</th>\n",
              "      <th>지역</th>\n",
              "      <th>시군구</th>\n",
              "      <th>주소</th>\n",
              "      <th>이용가능시간</th>\n",
              "      <th>제한</th>\n",
              "      <th>종류</th>\n",
              "      <th>비고</th>\n",
              "      <th>Unnamed: 12</th>\n",
              "      <th>dong</th>\n",
              "    </tr>\n",
              "  </thead>\n",
              "  <tbody>\n",
              "    <tr>\n",
              "      <th>0</th>\n",
              "      <td>164.0</td>\n",
              "      <td>환경부(한국자동차환경협회)</td>\n",
              "      <td>강변 공영주차장</td>\n",
              "      <td>21</td>\n",
              "      <td>DC콤보</td>\n",
              "      <td>서울특별시</td>\n",
              "      <td>성동구</td>\n",
              "      <td>서울특별시 성동구 둘레길 47-5</td>\n",
              "      <td>24시간 이용가능</td>\n",
              "      <td>NaN</td>\n",
              "      <td>급속(200kW동시)</td>\n",
              "      <td>5분당 100원 저공해차량 50% 할인</td>\n",
              "      <td>[1] 행정동 명칭</td>\n",
              "      <td>성수1가1동</td>\n",
              "    </tr>\n",
              "  </tbody>\n",
              "</table>\n",
              "</div>"
            ],
            "text/plain": [
              "   Unnamed: 0            운영기관  ... Unnamed: 12    dong\n",
              "0       164.0  환경부(한국자동차환경협회)  ...  [1] 행정동 명칭  성수1가1동\n",
              "\n",
              "[1 rows x 14 columns]"
            ]
          },
          "metadata": {},
          "execution_count": 49
        }
      ]
    },
    {
      "cell_type": "code",
      "metadata": {
        "colab": {
          "base_uri": "https://localhost:8080/"
        },
        "id": "2gNZkb272kEO",
        "outputId": "89edc3a7-19ed-4248-8e05-b26ce24b9940"
      },
      "source": [
        "df['이용가능시간'].value_counts()\n",
        "# 대부분이 24시간 이용가능이네요"
      ],
      "execution_count": null,
      "outputs": [
        {
          "output_type": "execute_result",
          "data": {
            "text/plain": [
              "24시간 이용가능                        5787\n",
              "09:00~18:00                      1700\n",
              "24시간 이용가능,입주민만 사용가능 거주자외출입제한      998\n",
              "24시간                              595\n",
              "24시간 이용가능,입주민만 사용가능 거주자 외 출입제     143\n",
              "                                 ... \n",
              "주차장 운영 정책에 따름                       1\n",
              "10시~21시                             1\n",
              "주중/주말 : 06~22시                      1\n",
              "06:00~23:00                         1\n",
              "주중09:00~18:00                       1\n",
              "Name: 이용가능시간, Length: 117, dtype: int64"
            ]
          },
          "metadata": {},
          "execution_count": 50
        }
      ]
    },
    {
      "cell_type": "code",
      "metadata": {
        "id": "K43y0xww3tsJ"
      },
      "source": [
        "stockdf = df.copy()"
      ],
      "execution_count": null,
      "outputs": []
    },
    {
      "cell_type": "markdown",
      "source": [
        "###check another case\n",
        "\n",
        "value_counts()를 하면 중간 값이 가려져서 나오는 문제 가있었습니다.\n",
        "그래서 저희는 최상위것을 계속 삭제하면서 다른 케이스는 무엇이 있나 확인했습니다."
      ],
      "metadata": {
        "id": "iG-bENvViDqd"
      }
    },
    {
      "cell_type": "code",
      "metadata": {
        "colab": {
          "base_uri": "https://localhost:8080/"
        },
        "id": "q-pFbhcJ2kGi",
        "outputId": "afb0263a-ac99-4f07-b5c0-86589d80b7e0"
      },
      "source": [
        "# 24시간 이용가능한 충전기가 몇퍼센트 차지하는지 확인해보고자합니다\n",
        "# 먼저 24시간 가능한 충전기를 제외시켜보겠습니다.\n",
        "# value_counts()에서 더 많은 정보를 보면 좋겠지만 그렇게 하는 방법을 찾지 못했습니다.\n",
        "\n",
        "idx1 = df[df['이용가능시간'] == '24시간 이용가능'].index\n",
        "idx2 = df[df['이용가능시간'] == '24시간'].index\n",
        "idx3 = df[df['이용가능시간'] == '24시간 이용가능,입주민만 사용가능 거주자외출입제한'].index\n",
        "idx4 = df[df['이용가능시간'] == '24시간 이용가능,입주민만 사용가능 거주자 외 출입제'].index\n",
        "df = df.drop(idx1)\n",
        "df = df.drop(idx2)\n",
        "df = df.drop(idx3)\n",
        "df = df.drop(idx4)\n",
        "fulltime_len = len(idx1) + len(idx2) + len(idx3) + len(idx4)\n",
        "print(fulltime_len)"
      ],
      "execution_count": null,
      "outputs": [
        {
          "output_type": "stream",
          "name": "stdout",
          "text": [
            "7523\n"
          ]
        }
      ]
    },
    {
      "cell_type": "code",
      "metadata": {
        "colab": {
          "base_uri": "https://localhost:8080/"
        },
        "id": "fHuL4xzN383d",
        "outputId": "ef7ce195-69c1-47d6-a0ef-5dd2b998e6e0"
      },
      "source": [
        "df['이용가능시간'].value_counts()"
      ],
      "execution_count": null,
      "outputs": [
        {
          "output_type": "execute_result",
          "data": {
            "text/plain": [
              "09:00~18:00                     1700\n",
              "~                                115\n",
              "주중/주말 : 24시간                      87\n",
              "주중/주말 : 06시~23시                   68\n",
              "평일 09:00~18:00                    60\n",
              "                                ... \n",
              "23시간 이용(09:00~08:00)               1\n",
              "05:00~익일01:00                      1\n",
              "10:00 ~ 22:00                      1\n",
              "평일 09시~18시 이용가능, 주말/공휴일 이용불가       1\n",
              "주중/주말 : 09시~18시                    1\n",
              "Name: 이용가능시간, Length: 113, dtype: int64"
            ]
          },
          "metadata": {},
          "execution_count": 34
        }
      ]
    },
    {
      "cell_type": "code",
      "metadata": {
        "colab": {
          "base_uri": "https://localhost:8080/"
        },
        "id": "C6yyJxPm388E",
        "outputId": "efe7e939-adca-4255-d7f6-2921811d9b31"
      },
      "source": [
        "idx5 = df[df['이용가능시간'] == '~'].index\n",
        "idx6 = df[df['이용가능시간'] == '주중/주말 : 24시간'].index\n",
        "\n",
        "df = df.drop(idx5)\n",
        "df = df.drop(idx6)\n",
        "fulltime_len = fulltime_len + len(idx5) + len(idx6)\n",
        "print(fulltime_len)"
      ],
      "execution_count": null,
      "outputs": [
        {
          "output_type": "stream",
          "name": "stdout",
          "text": [
            "7725\n"
          ]
        }
      ]
    },
    {
      "cell_type": "code",
      "metadata": {
        "colab": {
          "base_uri": "https://localhost:8080/"
        },
        "id": "2gqopzKA38-X",
        "outputId": "529a1c7f-297e-4b60-b9d3-8c68039654f3"
      },
      "source": [
        "df['이용가능시간'].value_counts(dropna = False)"
      ],
      "execution_count": null,
      "outputs": [
        {
          "output_type": "execute_result",
          "data": {
            "text/plain": [
              "09:00~18:00                       1700\n",
              "NaN                                804\n",
              "주중/주말 : 06시~23시                     68\n",
              "평일 09:00~18:00                      60\n",
              "주중 08:00~19:00, 주말 09:00~18:00      59\n",
              "                                  ... \n",
              "06:00~23:00                          1\n",
              "주중 09:00~18:00 [주말 이용불가]             1\n",
              "09:00~24:00                          1\n",
              "24시간(단, 22시이후근무자운영                   1\n",
              "09:00~20:00                          1\n",
              "Name: 이용가능시간, Length: 112, dtype: int64"
            ]
          },
          "metadata": {},
          "execution_count": 36
        }
      ]
    },
    {
      "cell_type": "code",
      "metadata": {
        "colab": {
          "base_uri": "https://localhost:8080/"
        },
        "id": "VAdGkHRh39B0",
        "outputId": "14a45b07-0324-44e3-c6e4-abc732c60687"
      },
      "source": [
        "df = df.fillna(0)\n",
        "idx = df[df['이용가능시간'] != 0].index\n",
        "nandf = df.drop(idx)\n",
        "nandf['이용가능시간'].value_counts(dropna = False)\n",
        "# 이용가능시간이 NaN값이 곳만 잘 추출되었네요!"
      ],
      "execution_count": null,
      "outputs": [
        {
          "output_type": "execute_result",
          "data": {
            "text/plain": [
              "0    804\n",
              "Name: 이용가능시간, dtype: int64"
            ]
          },
          "metadata": {},
          "execution_count": 37
        }
      ]
    },
    {
      "cell_type": "code",
      "metadata": {
        "colab": {
          "base_uri": "https://localhost:8080/",
          "height": 405
        },
        "id": "L5GN715h6azp",
        "outputId": "794cd1b8-24da-4e4d-8cec-b0249e9871e6"
      },
      "source": [
        "nandf.head(5)"
      ],
      "execution_count": null,
      "outputs": [
        {
          "output_type": "execute_result",
          "data": {
            "text/html": [
              "<div>\n",
              "<style scoped>\n",
              "    .dataframe tbody tr th:only-of-type {\n",
              "        vertical-align: middle;\n",
              "    }\n",
              "\n",
              "    .dataframe tbody tr th {\n",
              "        vertical-align: top;\n",
              "    }\n",
              "\n",
              "    .dataframe thead th {\n",
              "        text-align: right;\n",
              "    }\n",
              "</style>\n",
              "<table border=\"1\" class=\"dataframe\">\n",
              "  <thead>\n",
              "    <tr style=\"text-align: right;\">\n",
              "      <th></th>\n",
              "      <th>Unnamed: 0</th>\n",
              "      <th>운영기관</th>\n",
              "      <th>충전소</th>\n",
              "      <th>충전기 ID</th>\n",
              "      <th>타입</th>\n",
              "      <th>지역</th>\n",
              "      <th>시군구</th>\n",
              "      <th>주소</th>\n",
              "      <th>이용가능시간</th>\n",
              "      <th>제한</th>\n",
              "      <th>종류</th>\n",
              "      <th>비고</th>\n",
              "      <th>Unnamed: 12</th>\n",
              "      <th>dong</th>\n",
              "    </tr>\n",
              "  </thead>\n",
              "  <tbody>\n",
              "    <tr>\n",
              "      <th>21</th>\n",
              "      <td>7973.0</td>\n",
              "      <td>한국전력</td>\n",
              "      <td>e편한세상 금호파크힐스</td>\n",
              "      <td>1</td>\n",
              "      <td>DC차데모+AC3상+DC콤보</td>\n",
              "      <td>서울특별시</td>\n",
              "      <td>성동구</td>\n",
              "      <td>서울특별시 성동구 금호동1가 금호로 140</td>\n",
              "      <td>0</td>\n",
              "      <td>입주자외 출입제한 (긴급상황 이용가능)</td>\n",
              "      <td>0</td>\n",
              "      <td>0</td>\n",
              "      <td>[1] 행정동 명칭</td>\n",
              "      <td>금호1가동</td>\n",
              "    </tr>\n",
              "    <tr>\n",
              "      <th>22</th>\n",
              "      <td>7974.0</td>\n",
              "      <td>한국전력</td>\n",
              "      <td>e편한세상 금호파크힐스</td>\n",
              "      <td>2</td>\n",
              "      <td>AC완속</td>\n",
              "      <td>서울특별시</td>\n",
              "      <td>성동구</td>\n",
              "      <td>서울특별시 성동구 금호동1가 금호로 140</td>\n",
              "      <td>0</td>\n",
              "      <td>입주자외 출입제한 (긴급상황 이용가능)</td>\n",
              "      <td>0</td>\n",
              "      <td>0</td>\n",
              "      <td>[1] 행정동 명칭</td>\n",
              "      <td>금호1가동</td>\n",
              "    </tr>\n",
              "    <tr>\n",
              "      <th>23</th>\n",
              "      <td>7975.0</td>\n",
              "      <td>한국전력</td>\n",
              "      <td>e편한세상 금호파크힐스</td>\n",
              "      <td>3</td>\n",
              "      <td>AC완속</td>\n",
              "      <td>서울특별시</td>\n",
              "      <td>성동구</td>\n",
              "      <td>서울특별시 성동구 금호동1가 금호로 140</td>\n",
              "      <td>0</td>\n",
              "      <td>입주자외 출입제한 (긴급상황 이용가능)</td>\n",
              "      <td>0</td>\n",
              "      <td>0</td>\n",
              "      <td>[1] 행정동 명칭</td>\n",
              "      <td>금호1가동</td>\n",
              "    </tr>\n",
              "    <tr>\n",
              "      <th>24</th>\n",
              "      <td>7976.0</td>\n",
              "      <td>한국전력</td>\n",
              "      <td>e편한세상 금호파크힐스</td>\n",
              "      <td>4</td>\n",
              "      <td>AC완속</td>\n",
              "      <td>서울특별시</td>\n",
              "      <td>성동구</td>\n",
              "      <td>서울특별시 성동구 금호동1가 금호로 140</td>\n",
              "      <td>0</td>\n",
              "      <td>입주자외 출입제한 (긴급상황 이용가능)</td>\n",
              "      <td>0</td>\n",
              "      <td>0</td>\n",
              "      <td>[1] 행정동 명칭</td>\n",
              "      <td>금호1가동</td>\n",
              "    </tr>\n",
              "    <tr>\n",
              "      <th>43</th>\n",
              "      <td>12642.0</td>\n",
              "      <td>한국전력</td>\n",
              "      <td>성수2차대우 아파트</td>\n",
              "      <td>1</td>\n",
              "      <td>AC완속</td>\n",
              "      <td>서울특별시</td>\n",
              "      <td>성동구</td>\n",
              "      <td>서울특별시 성동구 성수동1가 상원6길 16</td>\n",
              "      <td>0</td>\n",
              "      <td>입주자외 출입제한 (긴급상황 이용가능)</td>\n",
              "      <td>0</td>\n",
              "      <td>0</td>\n",
              "      <td>[1] 행정동 명칭</td>\n",
              "      <td>성수1가2동</td>\n",
              "    </tr>\n",
              "  </tbody>\n",
              "</table>\n",
              "</div>"
            ],
            "text/plain": [
              "    Unnamed: 0  운영기관           충전소  충전기 ID  ... 종류 비고 Unnamed: 12    dong\n",
              "21      7973.0  한국전력  e편한세상 금호파크힐스       1  ...  0  0  [1] 행정동 명칭   금호1가동\n",
              "22      7974.0  한국전력  e편한세상 금호파크힐스       2  ...  0  0  [1] 행정동 명칭   금호1가동\n",
              "23      7975.0  한국전력  e편한세상 금호파크힐스       3  ...  0  0  [1] 행정동 명칭   금호1가동\n",
              "24      7976.0  한국전력  e편한세상 금호파크힐스       4  ...  0  0  [1] 행정동 명칭   금호1가동\n",
              "43     12642.0  한국전력    성수2차대우 아파트       1  ...  0  0  [1] 행정동 명칭  성수1가2동\n",
              "\n",
              "[5 rows x 14 columns]"
            ]
          },
          "metadata": {},
          "execution_count": 38
        }
      ]
    },
    {
      "cell_type": "markdown",
      "source": [
        "# 다른 column에 시간에 대한 조건이 있는지 확인해 봅시다."
      ],
      "metadata": {
        "id": "5tmPnswdifCY"
      }
    },
    {
      "cell_type": "code",
      "metadata": {
        "colab": {
          "base_uri": "https://localhost:8080/"
        },
        "id": "tGJfb_j12kJ8",
        "outputId": "c835a85e-5364-4d83-ec38-3f56ea452acb"
      },
      "source": [
        "#비고나 제한 열에 시간정보가 있는지 확인해봅시다.\n",
        "nandf['제한'].value_counts(dropna = False)"
      ],
      "execution_count": null,
      "outputs": [
        {
          "output_type": "execute_result",
          "data": {
            "text/plain": [
              "입주자외 출입제한 (긴급상황 이용가능)     388\n",
              "시설 상황에 따라 이용이 제한될 수 있음    187\n",
              "0                         145\n",
              "사업장 거주자외 출입제한              83\n",
              "숙박 시설 이용자로 제한               1\n",
              "Name: 제한, dtype: int64"
            ]
          },
          "metadata": {},
          "execution_count": 39
        }
      ]
    },
    {
      "cell_type": "code",
      "metadata": {
        "colab": {
          "base_uri": "https://localhost:8080/"
        },
        "id": "DLUxWs_M6Lbt",
        "outputId": "2eb4577c-453f-4881-f1e4-db77ec5ab51b"
      },
      "source": [
        "nandf['제한'].value_counts(dropna = False)\n",
        "# 비고나 제한 열에도 시간 정보가 들어있지 않네요"
      ],
      "execution_count": null,
      "outputs": [
        {
          "output_type": "execute_result",
          "data": {
            "text/plain": [
              "입주자외 출입제한 (긴급상황 이용가능)     388\n",
              "시설 상황에 따라 이용이 제한될 수 있음    187\n",
              "0                         145\n",
              "사업장 거주자외 출입제한              83\n",
              "숙박 시설 이용자로 제한               1\n",
              "Name: 제한, dtype: int64"
            ]
          },
          "metadata": {},
          "execution_count": 40
        }
      ]
    },
    {
      "cell_type": "code",
      "metadata": {
        "colab": {
          "base_uri": "https://localhost:8080/"
        },
        "id": "z1-IcVyv6Ld5",
        "outputId": "71457004-40d1-4159-fbcf-2f56d91fb6ed"
      },
      "source": [
        "#NaN값들에서 일부를 조사해보았는데 전부 아파트 단지 내에 있는 충전기 였습니다.\n",
        "# 아파트 단지내에 있는 충전기들을 24시간 이용가능하므로 NaN도 24시간 이용가능으로 두겠습니다.\n",
        "idx7 = df[df['이용가능시간'] == 0].index\n",
        "df = df.drop(idx7)\n",
        "fulltime_len = fulltime_len + len(idx7) \n",
        "print(fulltime_len)"
      ],
      "execution_count": null,
      "outputs": [
        {
          "output_type": "stream",
          "name": "stdout",
          "text": [
            "8529\n"
          ]
        }
      ]
    },
    {
      "cell_type": "code",
      "metadata": {
        "colab": {
          "base_uri": "https://localhost:8080/"
        },
        "id": "PlkxVp9t-kPT",
        "outputId": "fda916ae-2b52-43cf-9ca1-1e8015ff9ae2"
      },
      "source": [
        "df['이용가능시간'].value_counts()\n",
        "# 24시간이 8529개로 가장 많고\n",
        "# 09~18시가 1700개로 그 다음으로 많습니다. "
      ],
      "execution_count": null,
      "outputs": [
        {
          "output_type": "execute_result",
          "data": {
            "text/plain": [
              "09:00~18:00                       1700\n",
              "주중/주말 : 06시~23시                     68\n",
              "평일 09:00~18:00                      60\n",
              "주중 08:00~19:00, 주말 09:00~18:00      59\n",
              "10:00~23:00                         56\n",
              "                                  ... \n",
              "주중09:00~18:00                        1\n",
              "23시간 이용(09:00~08:00)                 1\n",
              "06:00~21:00                          1\n",
              "평일09:00~12:00                        1\n",
              "평일 09시~18시 이용가능, 주말/공휴일 이용불가         1\n",
              "Name: 이용가능시간, Length: 111, dtype: int64"
            ]
          },
          "metadata": {},
          "execution_count": 42
        }
      ]
    },
    {
      "cell_type": "code",
      "metadata": {
        "id": "kSE4vONiCZKu"
      },
      "source": [
        "idx8 = df[df['이용가능시간'] == '09:00~18:00'].index\n",
        "idx9 = df[df['이용가능시간'] == '평일 09:00~18:00'].index\n",
        "idx10 = df[df['이용가능시간'] == '주중 08:00~19:00, 주말 09:00~18:00'].index\n",
        "\n",
        "df = df.drop(idx8)\n",
        "df = df.drop(idx9)\n",
        "df = df.drop(idx10)\n",
        "\n",
        "h = len(idx8) + len(idx9) + len(idx10)"
      ],
      "execution_count": null,
      "outputs": []
    },
    {
      "cell_type": "code",
      "metadata": {
        "colab": {
          "base_uri": "https://localhost:8080/"
        },
        "id": "KebLyHWRCZOL",
        "outputId": "92714744-7624-431c-9c67-7e6329963393"
      },
      "source": [
        "df['이용가능시간'].value_counts()"
      ],
      "execution_count": null,
      "outputs": [
        {
          "output_type": "execute_result",
          "data": {
            "text/plain": [
              "주중/주말 : 06시~23시                     68\n",
              "10:00~23:00                         56\n",
              "평일 09:00 ~ 18:00                    39\n",
              "평일 09시~18시 이용가능                     36\n",
              "24시간 이용가능/시설 상황에 따라 이용이 제한될 수       34\n",
              "                                    ..\n",
              "이용불가                                 1\n",
              "주중 09:00~18:00 [주말 이용불가]             1\n",
              "06:00~24:00 이용가능                     1\n",
              "10:00 ~ 22:00                        1\n",
              "평일09:00~18:00(출입제한 02-2600-4123)     1\n",
              "Name: 이용가능시간, Length: 108, dtype: int64"
            ]
          },
          "metadata": {},
          "execution_count": 44
        }
      ]
    },
    {
      "cell_type": "code",
      "metadata": {
        "colab": {
          "base_uri": "https://localhost:8080/"
        },
        "id": "3Ga82h-nAHbv",
        "outputId": "c6f408dc-969a-4f6f-f15a-2fc1406d8828"
      },
      "source": [
        "len(stockdf)"
      ],
      "execution_count": null,
      "outputs": [
        {
          "output_type": "execute_result",
          "data": {
            "text/plain": [
              "11071"
            ]
          },
          "metadata": {},
          "execution_count": 45
        }
      ]
    },
    {
      "cell_type": "markdown",
      "source": [
        "저희가 정한 기준으로 분류한다면, 어느정도 비율로 나눠지는지 그림으로 그려봅시다."
      ],
      "metadata": {
        "id": "KUzRc6GTiswY"
      }
    },
    {
      "cell_type": "code",
      "metadata": {
        "colab": {
          "base_uri": "https://localhost:8080/",
          "height": 482
        },
        "id": "fLt7PqRh6LhN",
        "outputId": "4856da28-4a7f-4bf4-c6eb-6f20b1e236fa"
      },
      "source": [
        "\n",
        "import matplotlib.pyplot as plt\n",
        " \n",
        "fig = plt.figure(figsize=(8,8)) ## 캔버스 생성\n",
        "fig.set_facecolor('white') ## 캔버스 색상 하얀색\n",
        " \n",
        "ax = fig.add_subplot() ## 프래임 생성\n",
        "h = h + 39 + 46\n",
        "o = len(stockdf) - fulltime_len - h \n",
        "\n",
        "x = [fulltime_len, h, o ]\n",
        "labels = ['0:00 ~ 24:00','09:00 ~ 18:00','the others'] \n",
        "ax.pie(x=x,labels=labels,autopct=lambda p : '{:.2f}%'.format(p)) ## 파이 차트 출력\n",
        "plt.title('Available time')\n",
        "plt.savefig('Available time.png',bbox_inches='tight', pad_inches=1)\n",
        "plt.show()"
      ],
      "execution_count": null,
      "outputs": [
        {
          "output_type": "display_data",
          "data": {
            "image/png": "[encoded data removed]",
            "text/plain": [
              "<Figure size 576x576 with 1 Axes>"
            ]
          },
          "metadata": {}
        }
      ]
    },
    {
      "cell_type": "code",
      "metadata": {
        "id": "Bc509H2WDMWS"
      },
      "source": [
        "# 충전기를 분류할때 이용가능한 시간에 따라서도 분류하려고 하고,\n",
        "# 그때이 기준을 24시간 이용가능하지 않는다면 09:00~18:00시에 운영한다는 데이터로 두겠습니다.\n",
        "# 이런 러프한 계산으로 인해 오차가 발생할 것이고, 후속작을 만들 기회가 있으면 이 부분을 수정해보고 싶습니다."
      ],
      "execution_count": null,
      "outputs": []
    }
  ]
}