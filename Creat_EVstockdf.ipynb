{
  "nbformat": 4,
  "nbformat_minor": 0,
  "metadata": {
    "colab": {
      "name": "Creat_EVstockdf.ipynb",
      "provenance": [],
      "collapsed_sections": [],
      "authorship_tag": "ABX9TyP4CSjD7S3tgJqgxLW+zx28",
      "include_colab_link": true
    },
    "kernelspec": {
      "name": "python3",
      "display_name": "Python 3"
    },
    "language_info": {
      "name": "python"
    }
  },
  "cells": [
    {
      "cell_type": "markdown",
      "metadata": {
        "id": "view-in-github",
        "colab_type": "text"
      },
      "source": [
        "<a href=\"https://colab.research.google.com/github/SangMin316/Bigdata_AI_idea_contest/blob/main/Creat_EVstockdf.ipynb\" target=\"_parent\"><img src=\"https://colab.research.google.com/assets/colab-badge.svg\" alt=\"Open In Colab\"/></a>"
      ]
    },
    {
      "cell_type": "markdown",
      "source": [
        "서울시 전기차 충전소를 8개의 기준으로 나누는 코드입니다.\n",
        "\n",
        "기준이 3개(급속인지 아닌지, 24시간인지 아닌지, 제한조건이 있는지 없는지)에 따라\n",
        "8개로 구분했습니다.\n",
        "\n"
      ],
      "metadata": {
        "id": "kEn_IVsagQfO"
      }
    },
    {
      "cell_type": "code",
      "metadata": {
        "id": "PXvyY_wSl5Wf"
      },
      "source": [
        "import pandas as pd\n",
        "df = pd.read_excel('seoul_EVstock (1).xlsx')"
      ],
      "execution_count": null,
      "outputs": []
    },
    {
      "cell_type": "markdown",
      "source": [
        "data 살펴보기\n"
      ],
      "metadata": {
        "id": "PuixCBKSgtcw"
      }
    },
    {
      "cell_type": "code",
      "metadata": {
        "colab": {
          "base_uri": "https://localhost:8080/"
        },
        "id": "n0YgZbEFmB18",
        "outputId": "a233836a-4e64-4fff-f3a4-98ef2f2d2bc7"
      },
      "source": [
        "df.info()"
      ],
      "execution_count": null,
      "outputs": [
        {
          "output_type": "stream",
          "name": "stdout",
          "text": [
            "<class 'pandas.core.frame.DataFrame'>\n",
            "RangeIndex: 11071 entries, 0 to 11070\n",
            "Data columns (total 14 columns):\n",
            " #   Column       Non-Null Count  Dtype  \n",
            "---  ------       --------------  -----  \n",
            " 0   Unnamed: 0   4566 non-null   float64\n",
            " 1   운영기관         11071 non-null  object \n",
            " 2   충전소          11071 non-null  object \n",
            " 3   충전기 ID       11071 non-null  int64  \n",
            " 4   타입           11071 non-null  object \n",
            " 5   지역           11071 non-null  object \n",
            " 6   시군구          11071 non-null  object \n",
            " 7   주소           11071 non-null  object \n",
            " 8   이용가능시간       10267 non-null  object \n",
            " 9   제한           5849 non-null   object \n",
            " 10  종류           297 non-null    object \n",
            " 11  비고           1804 non-null   object \n",
            " 12  Unnamed: 12  7584 non-null   object \n",
            " 13  dong         11071 non-null  object \n",
            "dtypes: float64(1), int64(1), object(12)\n",
            "memory usage: 1.2+ MB\n"
          ]
        }
      ]
    },
    {
      "cell_type": "code",
      "metadata": {
        "colab": {
          "base_uri": "https://localhost:8080/"
        },
        "id": "by11dPCb0Fn_",
        "outputId": "6ccd89dd-e79c-4bc0-9e2e-a0dca2cf3a4a"
      },
      "source": [
        "df['타입'].value_counts(10)\n",
        "#검색을 해봤는데, ac완속을 제외한 충전기는 다 급속이었습니다."
      ],
      "execution_count": null,
      "outputs": [
        {
          "output_type": "execute_result",
          "data": {
            "text/plain": [
              "AC완속               0.871918\n",
              "DC차데모+AC3상+DC콤보    0.063951\n",
              "DC콤보               0.048686\n",
              "DC차데모+DC콤보         0.011652\n",
              "DC차데모+AC3상         0.002619\n",
              "AC3상               0.000813\n",
              "DC차데모              0.000361\n",
              "Name: 타입, dtype: float64"
            ]
          },
          "metadata": {},
          "execution_count": 48
        }
      ]
    },
    {
      "cell_type": "code",
      "metadata": {
        "colab": {
          "base_uri": "https://localhost:8080/"
        },
        "id": "LORuFZqT0nhH",
        "outputId": "905dfba5-fa08-4c29-8ee9-6194100b0ae0"
      },
      "source": [
        "df['종류'].value_counts(dropna = False)\n",
        "# 급속에도 kW수에 따라 종류가 나뉘는데 NaN값이 압도적으로 많아서 \n",
        "# 충전기는 급속이냐 완속이냐로 나누겠습니다."
      ],
      "execution_count": null,
      "outputs": [
        {
          "output_type": "execute_result",
          "data": {
            "text/plain": [
              "NaN            10774\n",
              "급속(50kW)         116\n",
              "급속(200kW동시)       72\n",
              "급속(100kW멀티)       58\n",
              "급속(100kW단독)       34\n",
              "급속(400kW동시)        8\n",
              "급속(100kW동시)        8\n",
              "s                  1\n",
              "Name: 종류, dtype: int64"
            ]
          },
          "metadata": {},
          "execution_count": 49
        }
      ]
    },
    {
      "cell_type": "code",
      "metadata": {
        "colab": {
          "base_uri": "https://localhost:8080/"
        },
        "id": "PysVe8z4nbxW",
        "outputId": "879759e1-cdfb-41cb-cd04-654f34f08001"
      },
      "source": [
        "df['비고'].value_counts(10,dropna = False)\n",
        "# 제한조건이 없는 충전기가 83퍼센트나 되네요"
      ],
      "execution_count": null,
      "outputs": [
        {
          "output_type": "execute_result",
          "data": {
            "text/plain": [
              "NaN                                  0.837052\n",
              "입주민만 사용가능 거주자외 출입제한                  0.064493\n",
              "입주민만 사용가능 거주자 외 출입제한                 0.034234\n",
              "입주민 등 거주자 외 출입 제한                    0.010207\n",
              "공동주택 입주민 전용                          0.005058\n",
              "                                       ...   \n",
              "1시간무료, 전기차 주차시 50% 할인                0.000090\n",
              "30분 무료 이후 10분당1000원                  0.000090\n",
              "최초 1시간 1500(승용차기준) 10분 250원          0.000090\n",
              "주차비 5분 무료 이후 5분당 50원(친환경차 50% 감면)    0.000090\n",
              "주차비 5분 50원(친환경차 50% 감면)              0.000090\n",
              "Name: 비고, Length: 121, dtype: float64"
            ]
          },
          "metadata": {},
          "execution_count": 50
        }
      ]
    },
    {
      "cell_type": "code",
      "metadata": {
        "colab": {
          "base_uri": "https://localhost:8080/"
        },
        "id": "LZhT-w7Pnb0t",
        "outputId": "2dfcdfed-a3a9-4862-b926-17578501f3d8"
      },
      "source": [
        "df['제한'].value_counts(10,dropna = False)"
      ],
      "execution_count": null,
      "outputs": [
        {
          "output_type": "execute_result",
          "data": {
            "text/plain": [
              "NaN                             0.471683\n",
              "거주자외 출입제한                       0.263662\n",
              "시설 상황에 따라 이용이 제한될 수 있음          0.129347\n",
              "입주자외 출입제한 (긴급상황 이용가능)           0.035769\n",
              "해당 시설 정책에 따라 이용이 불가할 수 있습니다     0.031343\n",
              "해당 시설 정책에 따라 이용이 불가할 수 있습니다.    0.031162\n",
              "사업장 거주자외 출입제한                   0.017794\n",
              "학교 교직원으로 제한                     0.004155\n",
              "RFID 카드만 가능                     0.003884\n",
              "금융기관 시설 이용자로 제한                 0.001536\n",
              "회원전용                            0.001445\n",
              "아파트                             0.001174\n",
              "실내(부분개방)_일부 이용자 제한 가능           0.000813\n",
              "어댑터 사용 불가                       0.000723\n",
              "주유소 시설 이용자로 제한                  0.000723\n",
              "업무용 빌딩(공장 등) 입주자 대상 개방          0.000632\n",
              "마트(쇼핑몰) 이용자, 상가 입주자로 사용 제한      0.000542\n",
              "숙박 시설 이용자로 제한                   0.000542\n",
              "관람장 시설 이용자로 제한                  0.000361\n",
              "소방서관용차 전용                       0.000271\n",
              "직원 전용, 외부인 사용불가                 0.000271\n",
              "실내(부분개방)_거주자외 출입제한              0.000271\n",
              "부분공용                            0.000271\n",
              "교육원 시설 이용자로 제한                  0.000181\n",
              "병원내복잡으로 내부차량 사용                 0.000181\n",
              "거주자 및 방문자 사용가능                  0.000181\n",
              "주차장공사로 임시철거                     0.000090\n",
              "소방서 관용차 전용                      0.000090\n",
              "기숙사 거주자외 출입제한                   0.000090\n",
              "보건소 시설 이용자로 제한                  0.000090\n",
              "시설 상황에 따라 이용이 제한될 수 있음.         0.000090\n",
              "주차장협소로 관용차 전용                   0.000090\n",
              "개인용으로 이용불가                      0.000090\n",
              "비개방, 관용차전용                      0.000090\n",
              "점포영업시간에 가능                      0.000090\n",
              "주민센터 주차장 상황에따라 통제함              0.000090\n",
              "시설 이용자로 제한                      0.000090\n",
              "차량정비 고객으로 제한                    0.000090\n",
              "Name: 제한, dtype: float64"
            ]
          },
          "metadata": {},
          "execution_count": 51
        }
      ]
    },
    {
      "cell_type": "code",
      "metadata": {
        "colab": {
          "base_uri": "https://localhost:8080/"
        },
        "id": "GLJS9SOOox8w",
        "outputId": "94ec8102-4a3d-46af-b8ce-0eed7de5f124"
      },
      "source": [
        "df['이용가능시간'].value_counts( dropna = False)\n",
        "# 이용가능한 시간도 기준을 다 입력하기에는 무리가 있어서 \n",
        "# 상위 4개와 기존에 만들었던 기준들을 사용하겠습니다."
      ],
      "execution_count": null,
      "outputs": [
        {
          "output_type": "execute_result",
          "data": {
            "text/plain": [
              "24시간 이용가능                         5787\n",
              "09:00~18:00                       1700\n",
              "24시간 이용가능,입주민만 사용가능 거주자외출입제한       998\n",
              "NaN                                804\n",
              "24시간                               595\n",
              "                                  ... \n",
              "주중 08시~22시, 토 08시~13시, 공휴일 미개방       1\n",
              "평일09:00~12:00                        1\n",
              "점포영업시간                               1\n",
              "06:00~24:00 이용가능                     1\n",
              "09:00~20:00                          1\n",
              "Name: 이용가능시간, Length: 118, dtype: int64"
            ]
          },
          "metadata": {},
          "execution_count": 52
        }
      ]
    },
    {
      "cell_type": "code",
      "metadata": {
        "id": "9Jn2FpXyrA-_"
      },
      "source": [
        "fulltime_ratio = 5787 + 998 + 804 + 595"
      ],
      "execution_count": null,
      "outputs": []
    },
    {
      "cell_type": "code",
      "metadata": {
        "colab": {
          "base_uri": "https://localhost:8080/"
        },
        "id": "OaaAnht1pwnf",
        "outputId": "9bc31af5-fc48-4a8c-a339-a21d88b42890"
      },
      "source": [
        "a = len(df[df['이용가능시간'] == '~'])\n",
        "b = len(df[df['이용가능시간'] == '00:00 ~ 23:59' ])\n",
        "c = len(df[df['이용가능시간'] == '24시간 이용가능,입주민만 사용가능 거주자 외 출입제' ])\n",
        "d = len(df[df['이용가능시간'] == '주증/주말 : 24시간' ])\n",
        "e = len([df['이용가능시간'] == '입주민 전용 24시간' ])\n",
        "others = (a+b+c+d+e)\n",
        "print((fulltime_ratio + others)/11071)\n",
        "\n",
        "# 전에 24시간 가능한 가능한 충전소가 약 77퍼센트 존재한다고 봤는데\n",
        "# 이번에는 약 76.2퍼가 나왔습니다. 약 1퍼센트의 오차는 어디서 발생했는지 잘 모르겠습니다.. "
      ],
      "execution_count": null,
      "outputs": [
        {
          "output_type": "stream",
          "name": "stdout",
          "text": [
            "0.7626230692801012\n"
          ]
        }
      ]
    },
    {
      "cell_type": "markdown",
      "source": [
        "위 조건들을 고려해서 충전기를 분류해보겠습니다."
      ],
      "metadata": {
        "id": "7UGBKxPlgyDF"
      }
    },
    {
      "cell_type": "code",
      "metadata": {
        "id": "vVV67-n0mB4f"
      },
      "source": [
        "# 급속이냐 완속이냐 나눠주는 함수입니다.\n",
        "def classify_fast(df):\n",
        "  f_df = df[df['타입'] != 'AC완속'] \n",
        "  idxs = f_df.index\n",
        "  s_df = df.drop(idxs)\n",
        "  return f_df, s_df # f_df는 급속충전기, s_df는 완속충전기\n",
        "\n",
        "# 24시간 이용가능하냐 그렇지 않냐 나눠주는 함수 입니다.\n",
        "def classify_time(df):\n",
        "  f1 = df[df['이용가능시간'] == '24시간 이용가능' ]\n",
        "  f2 = df[df['이용가능시간'] == '주증/주말 : 24시간' ]\n",
        "  f3 = df[df['이용가능시간'] == '24시간' ]\n",
        "  f4 = df[df['이용가능시간'] == '~' ]\n",
        "  f5 = df[df['이용가능시간'] == '00:00 ~ 23:59' ]\n",
        "  f6 = df[df['이용가능시간'] == 'NaN' ]\n",
        "  f7 = df[df['이용가능시간'] == '주중/주말 : 24시간']\n",
        "  f8 = df[df['이용가능시간'] == '24시간(단, 22시이후근무자운영' ]\n",
        "   \n",
        "  #이용 가능 시간 column에 시간 말고 다른 제한조건이 같이 있는 raw도 있습니다.\n",
        "  c1 = df[df['이용가능시간'] == '24시간 이용가능,입주민만 사용가능 거주자외출입제한' ]\n",
        "  c2 = df[df['이용가능시간'] == '24시간 이용가능,입주민만 사용가능 거주자 외 출입제' ]\n",
        "  c3 = df[df['이용가능시간'] == '입주민 전용 24시간' ]\n",
        "  c4 = df[df['이용가능시간'] == '24시간 이용가능(외부인 미개방)' ]\n",
        " \n",
        "  totalf = pd.concat([f1,f2,f3,f4,f5,f6,f7,f8])\n",
        "  temporary_c = pd.concat([c1, c2, c3,c4])\n",
        "  full = pd.concat([totalf, temporary_c]) #24시간 이용가능한 충전기 입니다.\n",
        "  idx = full.index\n",
        "  nonfull = df.drop(idx)\n",
        "  return full, nonfull, temporary_c"
      ],
      "execution_count": null,
      "outputs": []
    },
    {
      "cell_type": "code",
      "metadata": {
        "id": "cOYdqrismB71"
      },
      "source": [
        "# 제한조건이 있는지 없는지 나눠주는 함수입니다.\n",
        "def classify_constraints(df,temporary_c):\n",
        "  c1 = df[df['비고'] == '입주민만 사용가능 거주자외 출입제한' ]\n",
        "  c2 = df[df['비고'] == '입주민만 사용가능 거주자 외 출입제한' ]\n",
        "  c3 = df[df['비고'] == '입주민 등 거주자 외 출입 제한' ]\n",
        "  c4 = df[df['비고'] == '공동주택 입주민 전용' ]\n",
        "  c5 = df[df['비고'] == '거주자외 출입제한' ]\n",
        "  c6 = df[df['비고'] == '입주민으로 사용제한' ]\n",
        "  c7 = df[df['제한'] == '거주자외 출입제한' ]\n",
        "  c8 = df[df['제한'] == '입주자외 출입제한 (긴급상황 이용가능)' ]  \n",
        "  c9 = df[df['제한'] == '사업장 거주자외 출입제한' ]  \n",
        "  c10 = df[df['제한'] == '학교 교직원으로 제한 ' ]  \n",
        "  c11 = df[df['제한'] == '회원전용' ]\n",
        "  c12 = df[df['제한'] == '아파트' ]  \n",
        "  \n",
        "  newc = pd.concat( [c1,c2,c3,c4,c5,c6,c7,c8,c9,c10,c11,c12])\n",
        "  newc = newc.drop_duplicates()  # 비고랑 제한이랑 중복되는 놈들이 있을 수 있기에 빼줍니다.\n",
        "  # fulltime data가 아니면 tmeporary_c데이터를 포함하고 있지 않기에 newc를 바로 출력하면됩니다.\n",
        "  # 반번 fulltime데이터면 temporary_c 데이터를 포함하고 있기에 temporary_c데이터도 고려해줘야합니다.\n",
        "  if len(df[df['이용가능시간'] == '24시간']) != 0: # fulltime이면 \n",
        "    print('full data')\n",
        "    c = pd.concat([temporary_c, newc])\n",
        "    c = c.drop_duplicates() # 이용가능한시간이랑 제한이랑 겹치는 애들이 있을 수 있으니 중복되는 애들은 빼줍시다.\n",
        "    nonc = df.drop(c.index)\n",
        "    \n",
        "  else:\n",
        "    print('nonfulltime')\n",
        "    nonc = df.drop(newc.index)\n",
        "    c = newc\n",
        "          \n",
        "  return c,nonc"
      ],
      "execution_count": null,
      "outputs": []
    },
    {
      "cell_type": "code",
      "metadata": {
        "id": "rIAP5cZmnROB"
      },
      "source": [
        "# 앞에서 만든 분류 함수들을 순차적으로 돌려주는 함수입니다.\n",
        "def classify_all(df):\n",
        "  # fast slow classify\n",
        "  fast, slow = classify_fast(df)\n",
        "  # time classify\n",
        "  fast_full , fast_nonfull , temporary_fast_cons = classify_time(fast) \n",
        "  slow_full , slow_nonfull , temporary_slow_cons = classify_time(slow)\n",
        "  print('ff',len(fast_full))\n",
        "  print('fnf',len(fast_nonfull))\n",
        "  print('sf',len(slow_full))\n",
        "  print('snf',len(slow_nonfull))\n",
        "  print('total',len(fast_full) + len(fast_nonfull) +len(slow_full) + len(slow_nonfull) )\n",
        "  # constraints classify\n",
        "  ffc, ffnc = classify_constraints(fast_full,temporary_fast_cons)\n",
        "  print('a')\n",
        "  nfc, nfnc = classify_constraints(fast_nonfull,temporary_fast_cons)\n",
        "  print('d')\n",
        "  fsc, fsnc = classify_constraints(slow_full, temporary_slow_cons)\n",
        "  print('c')\n",
        "  nsc, nsnc = classify_constraints(slow_nonfull, temporary_slow_cons)\n",
        "  print('d')\n",
        "  return ffc,ffnc, nfc, nfnc, fsc, fsnc, nsc, nsnc"
      ],
      "execution_count": null,
      "outputs": []
    },
    {
      "cell_type": "code",
      "metadata": {
        "colab": {
          "base_uri": "https://localhost:8080/"
        },
        "id": "o4Uw2w8NnRRR",
        "outputId": "961704ec-d1e9-4e10-ad3f-8c824701b112"
      },
      "source": [
        "ffc,ffnc, nfc, nfnc, fsc, fsnc, nsc, nsnc = classify_all(df)"
      ],
      "execution_count": null,
      "outputs": [
        {
          "output_type": "stream",
          "name": "stdout",
          "text": [
            "ff 931\n",
            "fnf 487\n",
            "sf 6802\n",
            "snf 2851\n",
            "total 11071\n",
            "full data\n",
            "a\n",
            "nonfulltime\n",
            "d\n",
            "full data\n",
            "c\n",
            "nonfulltime\n",
            "d\n"
          ]
        }
      ]
    },
    {
      "cell_type": "code",
      "metadata": {
        "colab": {
          "base_uri": "https://localhost:8080/"
        },
        "id": "cl8cZP1tyX7c",
        "outputId": "028630ae-8755-4530-e443-4f862ddfeec5"
      },
      "source": [
        "ffc.info()"
      ],
      "execution_count": null,
      "outputs": [
        {
          "output_type": "stream",
          "name": "stdout",
          "text": [
            "<class 'pandas.core.frame.DataFrame'>\n",
            "Int64Index: 38 entries, 203 to 5955\n",
            "Data columns (total 14 columns):\n",
            " #   Column       Non-Null Count  Dtype  \n",
            "---  ------       --------------  -----  \n",
            " 0   Unnamed: 0   11 non-null     float64\n",
            " 1   운영기관         38 non-null     object \n",
            " 2   충전소          38 non-null     object \n",
            " 3   충전기 ID       38 non-null     int64  \n",
            " 4   타입           38 non-null     object \n",
            " 5   지역           38 non-null     object \n",
            " 6   시군구          38 non-null     object \n",
            " 7   주소           38 non-null     object \n",
            " 8   이용가능시간       38 non-null     object \n",
            " 9   제한           38 non-null     object \n",
            " 10  종류           0 non-null      object \n",
            " 11  비고           0 non-null      object \n",
            " 12  Unnamed: 12  15 non-null     object \n",
            " 13  dong         38 non-null     object \n",
            "dtypes: float64(1), int64(1), object(12)\n",
            "memory usage: 4.5+ KB\n"
          ]
        }
      ]
    },
    {
      "cell_type": "code",
      "metadata": {
        "colab": {
          "base_uri": "https://localhost:8080/"
        },
        "id": "RjQmnafNyuk-",
        "outputId": "7a51b435-43f9-4f08-829c-d62aef658323"
      },
      "source": [
        "ffnc.info()"
      ],
      "execution_count": null,
      "outputs": [
        {
          "output_type": "stream",
          "name": "stdout",
          "text": [
            "<class 'pandas.core.frame.DataFrame'>\n",
            "Int64Index: 893 entries, 0 to 5001\n",
            "Data columns (total 14 columns):\n",
            " #   Column       Non-Null Count  Dtype  \n",
            "---  ------       --------------  -----  \n",
            " 0   Unnamed: 0   378 non-null    float64\n",
            " 1   운영기관         893 non-null    object \n",
            " 2   충전소          893 non-null    object \n",
            " 3   충전기 ID       893 non-null    int64  \n",
            " 4   타입           893 non-null    object \n",
            " 5   지역           893 non-null    object \n",
            " 6   시군구          893 non-null    object \n",
            " 7   주소           893 non-null    object \n",
            " 8   이용가능시간       893 non-null    object \n",
            " 9   제한           220 non-null    object \n",
            " 10  종류           224 non-null    object \n",
            " 11  비고           220 non-null    object \n",
            " 12  Unnamed: 12  692 non-null    object \n",
            " 13  dong         893 non-null    object \n",
            "dtypes: float64(1), int64(1), object(12)\n",
            "memory usage: 104.6+ KB\n"
          ]
        }
      ]
    },
    {
      "cell_type": "code",
      "metadata": {
        "colab": {
          "base_uri": "https://localhost:8080/"
        },
        "id": "nPzMm81AyzGQ",
        "outputId": "cde0e931-bf93-4d2c-c415-998a24b670ec"
      },
      "source": [
        "a =len(ffc) + len(ffnc) + len(nfc) +  len(nfnc) + len(fsc) +  len(fsnc) +  len(nsc) + len(nsnc)\n",
        "print(a)\n",
        "# 중복과 누락없이 잘 저장되었습니다."
      ],
      "execution_count": null,
      "outputs": [
        {
          "output_type": "stream",
          "name": "stdout",
          "text": [
            "11071\n"
          ]
        }
      ]
    },
    {
      "cell_type": "code",
      "metadata": {
        "id": "0Qn1_S8KyzIo"
      },
      "source": [
        "# 중복되는 친구들을 고려하지 못해서 해매다가 겨우 찾았습니다.. "
      ],
      "execution_count": null,
      "outputs": []
    },
    {
      "cell_type": "code",
      "metadata": {
        "colab": {
          "base_uri": "https://localhost:8080/"
        },
        "id": "X5AqIqbhyzKx",
        "outputId": "60f72308-b62d-4b50-ca5a-91b530a68313"
      },
      "source": [
        "# dong을 추출합니다.\n",
        "a = df['dong'].values\n",
        "index = set(a)\n",
        "print(a)"
      ],
      "execution_count": null,
      "outputs": [
        {
          "output_type": "stream",
          "name": "stdout",
          "text": [
            "['성수1가1동' '성수1가1동' '마장동' ... '창1동' '창1동' '창4동']\n"
          ]
        }
      ]
    },
    {
      "cell_type": "code",
      "metadata": {
        "id": "4oA0PV6iyzOJ"
      },
      "source": [
        "EVstockdf = pd.DataFrame(index = index)\n",
        "\n",
        "EVstockdf['ffnc'] =  ffnc['dong'].value_counts()\n",
        "EVstockdf['ffc'] =  ffc['dong'].value_counts()\n",
        "EVstockdf['nfnc'] =  nfnc['dong'].value_counts()\n",
        "EVstockdf['nfc'] =  nfc['dong'].value_counts()\n",
        "EVstockdf['fsnc'] =  fsnc['dong'].value_counts()\n",
        "EVstockdf['fsc'] =  fsc['dong'].value_counts()\n",
        "EVstockdf['nsnc'] =  nsnc['dong'].value_counts()\n",
        "EVstockdf['nsc'] =  nsc['dong'].value_counts()"
      ],
      "execution_count": null,
      "outputs": []
    },
    {
      "cell_type": "code",
      "metadata": {
        "colab": {
          "base_uri": "https://localhost:8080/",
          "height": 203
        },
        "id": "x8YJ1ML3P_7T",
        "outputId": "d4882880-1124-4195-d16d-27c25e7b10be"
      },
      "source": [
        "EVstockdf.head()"
      ],
      "execution_count": null,
      "outputs": [
        {
          "output_type": "execute_result",
          "data": {
            "text/html": [
              "<div>\n",
              "<style scoped>\n",
              "    .dataframe tbody tr th:only-of-type {\n",
              "        vertical-align: middle;\n",
              "    }\n",
              "\n",
              "    .dataframe tbody tr th {\n",
              "        vertical-align: top;\n",
              "    }\n",
              "\n",
              "    .dataframe thead th {\n",
              "        text-align: right;\n",
              "    }\n",
              "</style>\n",
              "<table border=\"1\" class=\"dataframe\">\n",
              "  <thead>\n",
              "    <tr style=\"text-align: right;\">\n",
              "      <th></th>\n",
              "      <th>ffnc</th>\n",
              "      <th>ffc</th>\n",
              "      <th>nfnc</th>\n",
              "      <th>nfc</th>\n",
              "      <th>fsnc</th>\n",
              "      <th>fsc</th>\n",
              "      <th>nsnc</th>\n",
              "      <th>nsc</th>\n",
              "    </tr>\n",
              "  </thead>\n",
              "  <tbody>\n",
              "    <tr>\n",
              "      <th>신대방1동</th>\n",
              "      <td>1.0</td>\n",
              "      <td>NaN</td>\n",
              "      <td>1.0</td>\n",
              "      <td>NaN</td>\n",
              "      <td>5.0</td>\n",
              "      <td>13.0</td>\n",
              "      <td>5.0</td>\n",
              "      <td>13.0</td>\n",
              "    </tr>\n",
              "    <tr>\n",
              "      <th>시흥5동</th>\n",
              "      <td>NaN</td>\n",
              "      <td>NaN</td>\n",
              "      <td>NaN</td>\n",
              "      <td>NaN</td>\n",
              "      <td>NaN</td>\n",
              "      <td>2.0</td>\n",
              "      <td>1.0</td>\n",
              "      <td>NaN</td>\n",
              "    </tr>\n",
              "    <tr>\n",
              "      <th>청담동</th>\n",
              "      <td>1.0</td>\n",
              "      <td>NaN</td>\n",
              "      <td>NaN</td>\n",
              "      <td>2.0</td>\n",
              "      <td>13.0</td>\n",
              "      <td>19.0</td>\n",
              "      <td>26.0</td>\n",
              "      <td>NaN</td>\n",
              "    </tr>\n",
              "    <tr>\n",
              "      <th>신정4동</th>\n",
              "      <td>NaN</td>\n",
              "      <td>NaN</td>\n",
              "      <td>2.0</td>\n",
              "      <td>NaN</td>\n",
              "      <td>9.0</td>\n",
              "      <td>2.0</td>\n",
              "      <td>NaN</td>\n",
              "      <td>NaN</td>\n",
              "    </tr>\n",
              "    <tr>\n",
              "      <th>항동</th>\n",
              "      <td>NaN</td>\n",
              "      <td>NaN</td>\n",
              "      <td>NaN</td>\n",
              "      <td>NaN</td>\n",
              "      <td>NaN</td>\n",
              "      <td>11.0</td>\n",
              "      <td>9.0</td>\n",
              "      <td>10.0</td>\n",
              "    </tr>\n",
              "  </tbody>\n",
              "</table>\n",
              "</div>"
            ],
            "text/plain": [
              "       ffnc  ffc  nfnc  nfc  fsnc   fsc  nsnc   nsc\n",
              "신대방1동   1.0  NaN   1.0  NaN   5.0  13.0   5.0  13.0\n",
              "시흥5동    NaN  NaN   NaN  NaN   NaN   2.0   1.0   NaN\n",
              "청담동     1.0  NaN   NaN  2.0  13.0  19.0  26.0   NaN\n",
              "신정4동    NaN  NaN   2.0  NaN   9.0   2.0   NaN   NaN\n",
              "항동      NaN  NaN   NaN  NaN   NaN  11.0   9.0  10.0"
            ]
          },
          "metadata": {},
          "execution_count": 65
        }
      ]
    },
    {
      "cell_type": "code",
      "metadata": {
        "colab": {
          "base_uri": "https://localhost:8080/"
        },
        "id": "grwEWjy3QkRB",
        "outputId": "b4bfab8d-6235-405e-de8c-a843914b9496"
      },
      "source": [
        "EVstockdf.info()\n",
        "# 행정동은 426개인데, 저희가 정리한 데이터는 418개네여... 어디가 잘못되었는지 ㅠ\n",
        "# 짐작가는 곳은 'hangjungdong'데이터에서 생활인구데이터와 겹치치 않은 곳을 추출했는데\n",
        "# 법정동이름이랑 행정동이름이랑 같은 곳이 존재했던 것 같습니다..\n",
        "# 일단 2개 차이니깐 생활인구데이터를 합치면서 진행해보겠습니다."
      ],
      "execution_count": null,
      "outputs": [
        {
          "output_type": "stream",
          "name": "stdout",
          "text": [
            "<class 'pandas.core.frame.DataFrame'>\n",
            "Index: 418 entries, 신대방1동 to 미성동\n",
            "Data columns (total 8 columns):\n",
            " #   Column  Non-Null Count  Dtype  \n",
            "---  ------  --------------  -----  \n",
            " 0   ffnc    276 non-null    float64\n",
            " 1   ffc     20 non-null     float64\n",
            " 2   nfnc    147 non-null    float64\n",
            " 3   nfc     50 non-null     float64\n",
            " 4   fsnc    327 non-null    float64\n",
            " 5   fsc     285 non-null    float64\n",
            " 6   nsnc    300 non-null    float64\n",
            " 7   nsc     196 non-null    float64\n",
            "dtypes: float64(8)\n",
            "memory usage: 29.4+ KB\n"
          ]
        }
      ]
    },
    {
      "cell_type": "code",
      "metadata": {
        "id": "BUd_PwfERqZJ"
      },
      "source": [
        "EVstockdf.to_excel('EVstock1.xlsx')"
      ],
      "execution_count": null,
      "outputs": []
    },
    {
      "cell_type": "code",
      "metadata": {
        "id": "w1pqMRMZQkYu"
      },
      "source": [
        ""
      ],
      "execution_count": null,
      "outputs": []
    }
  ]
}